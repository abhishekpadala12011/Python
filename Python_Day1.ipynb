{
  "nbformat": 4,
  "nbformat_minor": 0,
  "metadata": {
    "colab": {
      "provenance": [],
      "collapsed_sections": []
    },
    "kernelspec": {
      "name": "python3",
      "display_name": "Python 3"
    },
    "language_info": {
      "name": "python"
    }
  },
  "cells": [
    {
      "cell_type": "code",
      "execution_count": null,
      "metadata": {
        "colab": {
          "base_uri": "https://localhost:8080/"
        },
        "id": "IDPGoeS-h36G",
        "outputId": "f7a6882d-d6c9-46b3-8c14-c75ec0f07893"
      },
      "outputs": [
        {
          "output_type": "stream",
          "name": "stdout",
          "text": [
            "0\n"
          ]
        }
      ],
      "source": [
        "Spam_amount = 0\n",
        "print(Spam_amount)"
      ]
    },
    {
      "cell_type": "code",
      "source": [
        "Spam_amount = Spam_amount + 4\n",
        "\n",
        "if Spam_amount >0:\n",
        "  print('but i don''t want any spam!')"
      ],
      "metadata": {
        "colab": {
          "base_uri": "https://localhost:8080/"
        },
        "id": "w2omCu1viD4L",
        "outputId": "1bdbde61-f3e7-4cd6-a959-ecff075ab475"
      },
      "execution_count": null,
      "outputs": [
        {
          "output_type": "stream",
          "name": "stdout",
          "text": [
            "but i dont want any spam!\n"
          ]
        }
      ]
    },
    {
      "cell_type": "code",
      "source": [
        "viking_song = 'Spam ' * Spam_amount\n",
        "print(viking_song)"
      ],
      "metadata": {
        "colab": {
          "base_uri": "https://localhost:8080/"
        },
        "id": "DJ5-ISxIiTTb",
        "outputId": "5b9b60e3-487a-4655-f1b8-52775dab62d3"
      },
      "execution_count": null,
      "outputs": [
        {
          "output_type": "stream",
          "name": "stdout",
          "text": [
            "Spam Spam Spam Spam \n"
          ]
        }
      ]
    },
    {
      "cell_type": "code",
      "source": [
        "type(Spam_amount)"
      ],
      "metadata": {
        "colab": {
          "base_uri": "https://localhost:8080/"
        },
        "id": "H_Yqw0RUic47",
        "outputId": "e63893a0-a19b-4c89-a358-261a53891bc0"
      },
      "execution_count": null,
      "outputs": [
        {
          "output_type": "execute_result",
          "data": {
            "text/plain": [
              "int"
            ]
          },
          "metadata": {},
          "execution_count": 4
        }
      ]
    },
    {
      "cell_type": "code",
      "source": [
        "type(19.95)"
      ],
      "metadata": {
        "colab": {
          "base_uri": "https://localhost:8080/"
        },
        "id": "rApcEumfinMk",
        "outputId": "16660e7f-dde9-4470-8996-1db8a934b922"
      },
      "execution_count": null,
      "outputs": [
        {
          "output_type": "execute_result",
          "data": {
            "text/plain": [
              "float"
            ]
          },
          "metadata": {},
          "execution_count": 5
        }
      ]
    },
    {
      "cell_type": "code",
      "source": [
        "print(5/2)# true divison \n",
        "print(5//2) # floor division\n",
        "print(6/2)\n",
        "print(6//2)\n",
        "print(5%2)#remainder \n",
        "print(6%2)"
      ],
      "metadata": {
        "colab": {
          "base_uri": "https://localhost:8080/"
        },
        "id": "H6LBEn72iqQk",
        "outputId": "efa656f8-1fb9-447c-e497-89c7cf402b17"
      },
      "execution_count": null,
      "outputs": [
        {
          "output_type": "stream",
          "name": "stdout",
          "text": [
            "2.5\n",
            "2\n",
            "3.0\n",
            "3\n",
            "1\n",
            "0\n"
          ]
        }
      ]
    },
    {
      "cell_type": "code",
      "source": [
        "print(8-3+2)"
      ],
      "metadata": {
        "colab": {
          "base_uri": "https://localhost:8080/"
        },
        "id": "ZENJySEhi4om",
        "outputId": "34115068-54e9-4270-ab99-3352b1638060"
      },
      "execution_count": null,
      "outputs": [
        {
          "output_type": "stream",
          "name": "stdout",
          "text": [
            "7\n"
          ]
        }
      ]
    },
    {
      "cell_type": "code",
      "source": [
        "print(-3+4*2) #multiplication and division goes first"
      ],
      "metadata": {
        "colab": {
          "base_uri": "https://localhost:8080/"
        },
        "id": "lwNSSd5Hjfdp",
        "outputId": "1ffbc591-3460-4cf0-d194-5d56d6e8f46a"
      },
      "execution_count": null,
      "outputs": [
        {
          "output_type": "stream",
          "name": "stdout",
          "text": [
            "5\n"
          ]
        }
      ]
    },
    {
      "cell_type": "code",
      "source": [
        "a=25\n",
        "b=190\n",
        "c=a+b/100\n",
        "print(c)"
      ],
      "metadata": {
        "colab": {
          "base_uri": "https://localhost:8080/"
        },
        "id": "a-nn9r3SjhoZ",
        "outputId": "15db09ea-d41a-4560-812b-5207db26510d"
      },
      "execution_count": null,
      "outputs": [
        {
          "output_type": "stream",
          "name": "stdout",
          "text": [
            "26.9\n"
          ]
        }
      ]
    },
    {
      "cell_type": "code",
      "source": [
        "c = (a+b)/100\n",
        "print(c)"
      ],
      "metadata": {
        "colab": {
          "base_uri": "https://localhost:8080/"
        },
        "id": "eK1Sv8zul1QW",
        "outputId": "378d1324-c850-4976-eb5c-63d8332c00c1"
      },
      "execution_count": null,
      "outputs": [
        {
          "output_type": "stream",
          "name": "stdout",
          "text": [
            "2.15\n"
          ]
        }
      ]
    },
    {
      "cell_type": "code",
      "source": [
        "print(min(1,10,0))\n",
        "print(max(100,10,200))"
      ],
      "metadata": {
        "colab": {
          "base_uri": "https://localhost:8080/"
        },
        "id": "KJp-BoNZmCiG",
        "outputId": "1b43f7ab-3127-4662-fa93-5933c0016b44"
      },
      "execution_count": null,
      "outputs": [
        {
          "output_type": "stream",
          "name": "stdout",
          "text": [
            "0\n",
            "200\n"
          ]
        }
      ]
    },
    {
      "cell_type": "code",
      "source": [
        "#abs returns absolute value of an argument\n",
        "print(abs(-32))\n",
        "print(abs(32))"
      ],
      "metadata": {
        "colab": {
          "base_uri": "https://localhost:8080/"
        },
        "id": "Crz4PYDYmNtM",
        "outputId": "6b214dde-723f-4880-e4d0-0109876f646b"
      },
      "execution_count": null,
      "outputs": [
        {
          "output_type": "stream",
          "name": "stdout",
          "text": [
            "32\n",
            "32\n"
          ]
        }
      ]
    },
    {
      "cell_type": "code",
      "source": [
        "print(float(10))\n",
        "print(int(3.33))\n",
        "# They can even be called on strings!\n",
        "print(int('807') + 1)"
      ],
      "metadata": {
        "colab": {
          "base_uri": "https://localhost:8080/"
        },
        "id": "UUFmesWAmpNl",
        "outputId": "a0bae5da-f589-4982-a921-a0e766e1c455"
      },
      "execution_count": null,
      "outputs": [
        {
          "output_type": "stream",
          "name": "stdout",
          "text": [
            "10.0\n",
            "3\n",
            "808\n"
          ]
        }
      ]
    },
    {
      "cell_type": "code",
      "source": [],
      "metadata": {
        "id": "4vRiNZGzonE2"
      },
      "execution_count": null,
      "outputs": []
    }
  ]
}