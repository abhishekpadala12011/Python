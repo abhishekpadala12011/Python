{
  "nbformat": 4,
  "nbformat_minor": 0,
  "metadata": {
    "colab": {
      "provenance": [],
      "collapsed_sections": []
    },
    "kernelspec": {
      "name": "python3",
      "display_name": "Python 3"
    },
    "language_info": {
      "name": "python"
    }
  },
  "cells": [
    {
      "cell_type": "code",
      "execution_count": null,
      "metadata": {
        "id": "HYcPhh6116w7"
      },
      "outputs": [],
      "source": [
        "#Object: n short, objects carry some things around with them. You access that stuff using Python's dot syntax.\n",
        "\n",
        "# For example, numbers in Python carry around an associated variable called imag representing their imaginary part. \n",
        "# (You'll probably never need to use this unless you're doing some very weird math.)\n"
      ]
    },
    {
      "cell_type": "markdown",
      "source": [
        "Object: n short, objects carry some things around with them. You access that stuff using Python's dot syntax.\n",
        "\n",
        "For example, numbers in Python carry around an associated variable called imag representing their imaginary part. \n",
        " (You'll probably never need to use this unless you're doing some very weird math.)\n"
      ],
      "metadata": {
        "id": "pMu0I5B9b7oO"
      }
    },
    {
      "cell_type": "code",
      "source": [
        "x=12\n",
        "print(x.imag)\n",
        "c= 12 + 3j\n",
        "print(c.imag)"
      ],
      "metadata": {
        "colab": {
          "base_uri": "https://localhost:8080/"
        },
        "id": "XItVMstobp67",
        "outputId": "8374ffd0-cc52-4a3f-e57b-5bade171c661"
      },
      "execution_count": null,
      "outputs": [
        {
          "output_type": "stream",
          "name": "stdout",
          "text": [
            "0\n",
            "3.0\n"
          ]
        }
      ]
    },
    {
      "cell_type": "markdown",
      "source": [
        "# Tuple: immutable"
      ],
      "metadata": {
        "id": "4imIGDAedg20"
      }
    },
    {
      "cell_type": "code",
      "source": [
        "t = (1,2,3)"
      ],
      "metadata": {
        "id": "gbSSrWEpcIe1"
      },
      "execution_count": null,
      "outputs": []
    },
    {
      "cell_type": "code",
      "source": [
        "t1 = 1, 2, 3 #both are same"
      ],
      "metadata": {
        "id": "R1oVV9JydqNn"
      },
      "execution_count": null,
      "outputs": []
    },
    {
      "cell_type": "code",
      "source": [
        "print(t,t1)"
      ],
      "metadata": {
        "colab": {
          "base_uri": "https://localhost:8080/"
        },
        "id": "Kz-KzKANdwLn",
        "outputId": "a0f1bff0-e43d-4bfd-cc27-b9d575f6b77f"
      },
      "execution_count": null,
      "outputs": [
        {
          "output_type": "stream",
          "name": "stdout",
          "text": [
            "(1, 2, 3) (1, 2, 3)\n"
          ]
        }
      ]
    },
    {
      "cell_type": "code",
      "source": [
        "t[0]"
      ],
      "metadata": {
        "colab": {
          "base_uri": "https://localhost:8080/"
        },
        "id": "rR7kLphDdyUN",
        "outputId": "233a8985-6d1b-45c4-e0b1-c7c2c10b0f02"
      },
      "execution_count": null,
      "outputs": [
        {
          "output_type": "execute_result",
          "data": {
            "text/plain": [
              "1"
            ]
          },
          "metadata": {},
          "execution_count": 8
        }
      ]
    },
    {
      "cell_type": "markdown",
      "source": [
        "# swapping"
      ],
      "metadata": {
        "id": "tlFuU_l7eURa"
      }
    },
    {
      "cell_type": "code",
      "source": [
        "a = 1\n",
        "b = 0\n",
        "a, b = b, a\n",
        "print(a, b)"
      ],
      "metadata": {
        "colab": {
          "base_uri": "https://localhost:8080/"
        },
        "id": "XIVVE_M5d1-X",
        "outputId": "fe4920d1-eebc-4cef-9d60-302cb4dcdafd"
      },
      "execution_count": null,
      "outputs": [
        {
          "output_type": "stream",
          "name": "stdout",
          "text": [
            "0 1\n"
          ]
        }
      ]
    },
    {
      "cell_type": "code",
      "source": [],
      "metadata": {
        "id": "csLwHuyUech9"
      },
      "execution_count": null,
      "outputs": []
    }
  ]
}