{
  "nbformat": 4,
  "nbformat_minor": 0,
  "metadata": {
    "colab": {
      "provenance": [],
      "collapsed_sections": []
    },
    "kernelspec": {
      "name": "python3",
      "display_name": "Python 3"
    },
    "language_info": {
      "name": "python"
    }
  },
  "cells": [
    {
      "cell_type": "code",
      "execution_count": null,
      "metadata": {
        "colab": {
          "base_uri": "https://localhost:8080/"
        },
        "id": "5XH_L_KPVA_s",
        "outputId": "37590cc8-0e29-4174-d8cb-73ba071b37c2"
      },
      "outputs": [
        {
          "output_type": "stream",
          "name": "stdout",
          "text": [
            "True\n"
          ]
        }
      ],
      "source": [
        "x = True\n",
        "print(x)"
      ]
    },
    {
      "cell_type": "code",
      "source": [
        "print(type(x))"
      ],
      "metadata": {
        "colab": {
          "base_uri": "https://localhost:8080/"
        },
        "id": "fMZ8_dffVLhG",
        "outputId": "d9163fcd-a1a2-41bb-9dbe-4a85355b9138"
      },
      "execution_count": null,
      "outputs": [
        {
          "output_type": "stream",
          "name": "stdout",
          "text": [
            "<class 'bool'>\n"
          ]
        }
      ]
    },
    {
      "cell_type": "code",
      "source": [
        "def can_run_for_president(age):\n",
        "  # must be 35 years to run for president\n",
        "  return age>=35\n",
        "\n",
        "print('abhishek can run for president?', can_run_for_president(30))\n",
        "print('john can run for president?', can_run_for_president(50))"
      ],
      "metadata": {
        "colab": {
          "base_uri": "https://localhost:8080/"
        },
        "id": "ng0AOt2YVNKH",
        "outputId": "100f23f8-92da-44f0-d720-d8feaf083d1a"
      },
      "execution_count": null,
      "outputs": [
        {
          "output_type": "stream",
          "name": "stdout",
          "text": [
            "abhishek can run for president? False\n",
            "john can run for president? True\n"
          ]
        }
      ]
    },
    {
      "cell_type": "code",
      "source": [
        "3.0 == 3"
      ],
      "metadata": {
        "colab": {
          "base_uri": "https://localhost:8080/"
        },
        "id": "4FVl3xmEVm8J",
        "outputId": "2a4ddc0d-29b6-42f9-a846-a06cc94fbb49"
      },
      "execution_count": null,
      "outputs": [
        {
          "output_type": "execute_result",
          "data": {
            "text/plain": [
              "True"
            ]
          },
          "metadata": {},
          "execution_count": 5
        }
      ]
    },
    {
      "cell_type": "code",
      "source": [
        "'3' == 3"
      ],
      "metadata": {
        "colab": {
          "base_uri": "https://localhost:8080/"
        },
        "id": "qwrkPRfCWDE2",
        "outputId": "c94337c8-e3f0-440a-9b99-11617e2eadd5"
      },
      "execution_count": null,
      "outputs": [
        {
          "output_type": "execute_result",
          "data": {
            "text/plain": [
              "False"
            ]
          },
          "metadata": {},
          "execution_count": 6
        }
      ]
    },
    {
      "cell_type": "code",
      "source": [
        "int('3') == 3"
      ],
      "metadata": {
        "colab": {
          "base_uri": "https://localhost:8080/"
        },
        "id": "xZUhKnLyWFzJ",
        "outputId": "ba14f945-7d08-4cac-a249-74df6d0debd8"
      },
      "execution_count": null,
      "outputs": [
        {
          "output_type": "execute_result",
          "data": {
            "text/plain": [
              "True"
            ]
          },
          "metadata": {},
          "execution_count": 7
        }
      ]
    },
    {
      "cell_type": "code",
      "source": [
        "def is_odd(n):\n",
        "    return (n % 2) == 1\n",
        "\n",
        "print(\"is 100 odd?\", is_odd(100))\n",
        "print(\"is 3 odd?\", is_odd(-1))"
      ],
      "metadata": {
        "colab": {
          "base_uri": "https://localhost:8080/"
        },
        "id": "HmfrIAPIWKNY",
        "outputId": "896a5f9a-ed5b-4a11-d90b-6e5965cc814a"
      },
      "execution_count": null,
      "outputs": [
        {
          "output_type": "stream",
          "name": "stdout",
          "text": [
            "is 100 odd? False\n",
            "is 3 odd? True\n"
          ]
        }
      ]
    },
    {
      "cell_type": "code",
      "source": [
        "# and \n",
        "\n",
        "def can_run_for_president_1(age, is_natural_born_citizen):\n",
        "    return is_natural_born_citizen and (age>=35)\n",
        "\n",
        "print(can_run_for_president_1(19, True))\n",
        "print(can_run_for_president_1(35, True))\n",
        "print(can_run_for_president_1(50, True))\n"
      ],
      "metadata": {
        "colab": {
          "base_uri": "https://localhost:8080/"
        },
        "id": "_SjH906QWjE4",
        "outputId": "8c84dbe7-9d4f-4c54-dcdd-4e989c56b548"
      },
      "execution_count": null,
      "outputs": [
        {
          "output_type": "stream",
          "name": "stdout",
          "text": [
            "False\n",
            "True\n",
            "True\n"
          ]
        }
      ]
    },
    {
      "cell_type": "code",
      "source": [
        "True or True and False\n",
        "#true and false= false \n",
        "# true or false = true\n",
        "# and performed first and then or"
      ],
      "metadata": {
        "colab": {
          "base_uri": "https://localhost:8080/"
        },
        "id": "pDlkL-dKX8HU",
        "outputId": "6412cb65-7a4e-4eb1-ddf0-60c3eb48c4b5"
      },
      "execution_count": 2,
      "outputs": [
        {
          "output_type": "execute_result",
          "data": {
            "text/plain": [
              "True"
            ]
          },
          "metadata": {},
          "execution_count": 2
        }
      ]
    },
    {
      "cell_type": "code",
      "source": [
        "print(True or True, True or False, True and True, True and False)"
      ],
      "metadata": {
        "colab": {
          "base_uri": "https://localhost:8080/"
        },
        "id": "8scZPkOIYYKR",
        "outputId": "63f7c50a-2201-426a-f6b3-9eb80d3da957"
      },
      "execution_count": null,
      "outputs": [
        {
          "output_type": "stream",
          "name": "stdout",
          "text": [
            "True True True False\n"
          ]
        }
      ]
    },
    {
      "cell_type": "code",
      "source": [
        "# prepared_for_weather = have_umbrella or rain_level<5 and have_hood or not rain_level>0 and is_workday\n",
        "# if i have an umbrella\n",
        "# or if the rain isn't too heavy and i have hood\n",
        "# otherwise im still fine unless its raining and it's a workday\n",
        "\n"
      ],
      "metadata": {
        "id": "KnXMmltHZdq2"
      },
      "execution_count": null,
      "outputs": []
    },
    {
      "cell_type": "code",
      "source": [
        "prepared_for_weather = have_umbrella or rain_level < 5 and have_hood or not rain_level > 0 and is_workday\n"
      ],
      "metadata": {
        "id": "OAPxK5I0oRd-",
        "colab": {
          "base_uri": "https://localhost:8080/",
          "height": 168
        },
        "outputId": "1ce0e1be-5c21-47c6-d262-28bc62561ccd"
      },
      "execution_count": 1,
      "outputs": [
        {
          "output_type": "error",
          "ename": "NameError",
          "evalue": "ignored",
          "traceback": [
            "\u001b[0;31m---------------------------------------------------------------------------\u001b[0m",
            "\u001b[0;31mNameError\u001b[0m                                 Traceback (most recent call last)",
            "\u001b[0;32m<ipython-input-1-a7b7c6b92fd3>\u001b[0m in \u001b[0;36m<module>\u001b[0;34m\u001b[0m\n\u001b[0;32m----> 1\u001b[0;31m \u001b[0mprepared_for_weather\u001b[0m \u001b[0;34m=\u001b[0m \u001b[0mhave_umbrella\u001b[0m \u001b[0;32mor\u001b[0m \u001b[0mrain_level\u001b[0m \u001b[0;34m<\u001b[0m \u001b[0;36m5\u001b[0m \u001b[0;32mand\u001b[0m \u001b[0mhave_hood\u001b[0m \u001b[0;32mor\u001b[0m \u001b[0;32mnot\u001b[0m \u001b[0mrain_level\u001b[0m \u001b[0;34m>\u001b[0m \u001b[0;36m0\u001b[0m \u001b[0;32mand\u001b[0m \u001b[0mis_workday\u001b[0m\u001b[0;34m\u001b[0m\u001b[0;34m\u001b[0m\u001b[0m\n\u001b[0m",
            "\u001b[0;31mNameError\u001b[0m: name 'have_umbrella' is not defined"
          ]
        }
      ]
    },
    {
      "cell_type": "code",
      "source": [
        "# let's say 1. have umbrella = false  \n",
        "# 2. rain level more than 5 = true\n",
        "# 3. have hoood = false\n",
        "# rain_level>0 = true\n",
        "# working day could be sunday = false \n",
        "prepared_for_weather = False or True and False or not True and False\n",
        "print(prepared_for_weather)\n",
        "\n",
        "# let's say 1. have umbrella = True  \n",
        "prepared_for_weather1 = True or True and False or not True and False\n",
        "print(prepared_for_weather1)\n"
      ],
      "metadata": {
        "colab": {
          "base_uri": "https://localhost:8080/"
        },
        "id": "CSrYhgNERxVW",
        "outputId": "af0eaf73-0c89-4f73-9734-2f7a7e176c27"
      },
      "execution_count": 7,
      "outputs": [
        {
          "output_type": "stream",
          "name": "stdout",
          "text": [
            "False\n",
            "True\n"
          ]
        }
      ]
    },
    {
      "cell_type": "code",
      "source": [
        "#readable\n",
        "prepared_for_weather = have_umbrella or (rain_level < 5 and have_hood) or not (rain_level > 0 and is_workday)\n",
        "\n",
        "#more readable\n",
        "prepared_for_weather = have_umbrella or ((rain_level < 5) and have_hood) or (not (rain_level > 0 and is_workday))"
      ],
      "metadata": {
        "id": "O0RVbIo0V1H2"
      },
      "execution_count": null,
      "outputs": []
    },
    {
      "cell_type": "code",
      "source": [
        "#a = (rain_level < 5) and have_hood\n",
        "a= True and False\n",
        "#b = not (rain_level > 0 and is_workday)\n",
        "b = (False and False)\n",
        "# not (rain_level > 0 and is_workday)\n",
        "c = not (False and False)\n",
        "print(a, b, c)\n",
        "# "
      ],
      "metadata": {
        "colab": {
          "base_uri": "https://localhost:8080/"
        },
        "id": "BKJAVBibWA_N",
        "outputId": "dff936d3-728d-4242-d724-bfd62a923262"
      },
      "execution_count": 10,
      "outputs": [
        {
          "output_type": "stream",
          "name": "stdout",
          "text": [
            "False False True\n"
          ]
        }
      ]
    },
    {
      "cell_type": "code",
      "source": [
        "def inspect(x):\n",
        "    if x == 0:\n",
        "        print(x, \"is zero\")\n",
        "    elif x > 0:\n",
        "        print(x, \"is positive\")\n",
        "    elif x < 0:\n",
        "        print(x, \"is negative\")\n",
        "    else:\n",
        "        print(x, \"is unlike anything I've ever seen...\")\n",
        "\n",
        "inspect(0)\n",
        "inspect(-15)\n"
      ],
      "metadata": {
        "colab": {
          "base_uri": "https://localhost:8080/"
        },
        "id": "gi0oMiNCWmwC",
        "outputId": "8e745a69-0c8e-4633-e4e3-b61f5777c750"
      },
      "execution_count": 13,
      "outputs": [
        {
          "output_type": "stream",
          "name": "stdout",
          "text": [
            "0 is zero\n",
            "-15 is negative\n"
          ]
        }
      ]
    },
    {
      "cell_type": "code",
      "source": [
        "def f(x):\n",
        "    if x > 0:\n",
        "        print(\"Only printed when x is positive; x =\", x)\n",
        "        print(\"Also only printed when x is positive; x =\", x)\n",
        "    print(\"Always printed, regardless of x's value; x =\", x)\n",
        "\n",
        "f(1)\n",
        "f(0)\n"
      ],
      "metadata": {
        "colab": {
          "base_uri": "https://localhost:8080/"
        },
        "id": "wBrkTsPHXJj1",
        "outputId": "a5894282-2d38-4853-dea8-74d308587184"
      },
      "execution_count": 14,
      "outputs": [
        {
          "output_type": "stream",
          "name": "stdout",
          "text": [
            "Only printed when x is positive; x = 1\n",
            "Also only printed when x is positive; x = 1\n",
            "Always printed, regardless of x's value; x = 1\n",
            "Always printed, regardless of x's value; x = 0\n"
          ]
        }
      ]
    },
    {
      "cell_type": "code",
      "source": [
        "print(bool(1)) # all numbers are treated as true, except 0\n",
        "print(bool(0))\n",
        "print(bool(\"asf\")) # all strings are treated as true, except the empty string \"\"\n",
        "print(bool(\"\"))\n",
        "# Generally empty sequences (strings, lists, and other types we've yet to see like lists and tuples)\n",
        "# are \"falsey\" and the rest are \"truthy\"\n"
      ],
      "metadata": {
        "colab": {
          "base_uri": "https://localhost:8080/"
        },
        "id": "lK6m0kIVXikw",
        "outputId": "9423368c-630f-4a13-f273-864d08696490"
      },
      "execution_count": 15,
      "outputs": [
        {
          "output_type": "stream",
          "name": "stdout",
          "text": [
            "True\n",
            "False\n",
            "True\n",
            "False\n"
          ]
        }
      ]
    },
    {
      "cell_type": "code",
      "source": [
        "# We can use non-boolean objects in if conditions and other places where a boolean would be expected. Python will implicitly treat them as their corresponding boolean value:\n",
        "if 0:\n",
        "    print(0)\n",
        "elif \"spam\":\n",
        "    print(\"spam\")"
      ],
      "metadata": {
        "colab": {
          "base_uri": "https://localhost:8080/"
        },
        "id": "WkliYs9LafRN",
        "outputId": "459e1404-e716-437f-93da-69aeb4b78c94"
      },
      "execution_count": 17,
      "outputs": [
        {
          "output_type": "stream",
          "name": "stdout",
          "text": [
            "spam\n"
          ]
        }
      ]
    },
    {
      "cell_type": "code",
      "source": [],
      "metadata": {
        "id": "NAi8EmX9aqRs"
      },
      "execution_count": null,
      "outputs": []
    }
  ]
}